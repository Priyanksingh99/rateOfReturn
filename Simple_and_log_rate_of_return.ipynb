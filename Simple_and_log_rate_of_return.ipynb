{
 "cells": [
  {
   "cell_type": "code",
   "execution_count": 87,
   "id": "6c56bba9",
   "metadata": {},
   "outputs": [],
   "source": [
    "import numpy as nm\n",
    "from pandas_datareader import data as wb \n",
    "import matplotlib.pyplot as plot"
   ]
  },
  {
   "cell_type": "code",
   "execution_count": 88,
   "id": "e8f4bea3",
   "metadata": {},
   "outputs": [],
   "source": [
    "HDFC = wb.DataReader('HDFC.NS',data_source = 'yahoo', start = '2019-1-1')"
   ]
  },
  {
   "cell_type": "code",
   "execution_count": 89,
   "id": "0fb079ce",
   "metadata": {},
   "outputs": [
    {
     "data": {
      "text/html": [
       "<div>\n",
       "<style scoped>\n",
       "    .dataframe tbody tr th:only-of-type {\n",
       "        vertical-align: middle;\n",
       "    }\n",
       "\n",
       "    .dataframe tbody tr th {\n",
       "        vertical-align: top;\n",
       "    }\n",
       "\n",
       "    .dataframe thead th {\n",
       "        text-align: right;\n",
       "    }\n",
       "</style>\n",
       "<table border=\"1\" class=\"dataframe\">\n",
       "  <thead>\n",
       "    <tr style=\"text-align: right;\">\n",
       "      <th></th>\n",
       "      <th>High</th>\n",
       "      <th>Low</th>\n",
       "      <th>Open</th>\n",
       "      <th>Close</th>\n",
       "      <th>Volume</th>\n",
       "      <th>Adj Close</th>\n",
       "    </tr>\n",
       "    <tr>\n",
       "      <th>Date</th>\n",
       "      <th></th>\n",
       "      <th></th>\n",
       "      <th></th>\n",
       "      <th></th>\n",
       "      <th></th>\n",
       "      <th></th>\n",
       "    </tr>\n",
       "  </thead>\n",
       "  <tbody>\n",
       "    <tr>\n",
       "      <th>2019-01-01</th>\n",
       "      <td>2014.699951</td>\n",
       "      <td>1954.500000</td>\n",
       "      <td>1968.000000</td>\n",
       "      <td>2009.000000</td>\n",
       "      <td>1305443.0</td>\n",
       "      <td>1890.450562</td>\n",
       "    </tr>\n",
       "    <tr>\n",
       "      <th>2019-01-02</th>\n",
       "      <td>2009.000000</td>\n",
       "      <td>1961.000000</td>\n",
       "      <td>2004.699951</td>\n",
       "      <td>1980.650024</td>\n",
       "      <td>2001170.0</td>\n",
       "      <td>1863.773560</td>\n",
       "    </tr>\n",
       "    <tr>\n",
       "      <th>2019-01-03</th>\n",
       "      <td>1987.099976</td>\n",
       "      <td>1931.849976</td>\n",
       "      <td>1984.050049</td>\n",
       "      <td>1936.849976</td>\n",
       "      <td>3732193.0</td>\n",
       "      <td>1822.557983</td>\n",
       "    </tr>\n",
       "    <tr>\n",
       "      <th>2019-01-04</th>\n",
       "      <td>1976.000000</td>\n",
       "      <td>1942.000000</td>\n",
       "      <td>1948.000000</td>\n",
       "      <td>1972.599976</td>\n",
       "      <td>2109614.0</td>\n",
       "      <td>1856.198364</td>\n",
       "    </tr>\n",
       "    <tr>\n",
       "      <th>2019-01-07</th>\n",
       "      <td>1987.500000</td>\n",
       "      <td>1963.949951</td>\n",
       "      <td>1976.949951</td>\n",
       "      <td>1972.900024</td>\n",
       "      <td>2255477.0</td>\n",
       "      <td>1856.480713</td>\n",
       "    </tr>\n",
       "  </tbody>\n",
       "</table>\n",
       "</div>"
      ],
      "text/plain": [
       "                   High          Low         Open        Close     Volume  \\\n",
       "Date                                                                        \n",
       "2019-01-01  2014.699951  1954.500000  1968.000000  2009.000000  1305443.0   \n",
       "2019-01-02  2009.000000  1961.000000  2004.699951  1980.650024  2001170.0   \n",
       "2019-01-03  1987.099976  1931.849976  1984.050049  1936.849976  3732193.0   \n",
       "2019-01-04  1976.000000  1942.000000  1948.000000  1972.599976  2109614.0   \n",
       "2019-01-07  1987.500000  1963.949951  1976.949951  1972.900024  2255477.0   \n",
       "\n",
       "              Adj Close  \n",
       "Date                     \n",
       "2019-01-01  1890.450562  \n",
       "2019-01-02  1863.773560  \n",
       "2019-01-03  1822.557983  \n",
       "2019-01-04  1856.198364  \n",
       "2019-01-07  1856.480713  "
      ]
     },
     "execution_count": 89,
     "metadata": {},
     "output_type": "execute_result"
    }
   ],
   "source": [
    "HDFC.head()"
   ]
  },
  {
   "cell_type": "code",
   "execution_count": 90,
   "id": "8ac23308",
   "metadata": {},
   "outputs": [
    {
     "data": {
      "text/html": [
       "<div>\n",
       "<style scoped>\n",
       "    .dataframe tbody tr th:only-of-type {\n",
       "        vertical-align: middle;\n",
       "    }\n",
       "\n",
       "    .dataframe tbody tr th {\n",
       "        vertical-align: top;\n",
       "    }\n",
       "\n",
       "    .dataframe thead th {\n",
       "        text-align: right;\n",
       "    }\n",
       "</style>\n",
       "<table border=\"1\" class=\"dataframe\">\n",
       "  <thead>\n",
       "    <tr style=\"text-align: right;\">\n",
       "      <th></th>\n",
       "      <th>High</th>\n",
       "      <th>Low</th>\n",
       "      <th>Open</th>\n",
       "      <th>Close</th>\n",
       "      <th>Volume</th>\n",
       "      <th>Adj Close</th>\n",
       "    </tr>\n",
       "    <tr>\n",
       "      <th>Date</th>\n",
       "      <th></th>\n",
       "      <th></th>\n",
       "      <th></th>\n",
       "      <th></th>\n",
       "      <th></th>\n",
       "      <th></th>\n",
       "    </tr>\n",
       "  </thead>\n",
       "  <tbody>\n",
       "    <tr>\n",
       "      <th>2022-07-04</th>\n",
       "      <td>2220.550049</td>\n",
       "      <td>2178.199951</td>\n",
       "      <td>2195.149902</td>\n",
       "      <td>2216.850098</td>\n",
       "      <td>1713059.0</td>\n",
       "      <td>2216.850098</td>\n",
       "    </tr>\n",
       "    <tr>\n",
       "      <th>2022-07-05</th>\n",
       "      <td>2245.500000</td>\n",
       "      <td>2191.399902</td>\n",
       "      <td>2241.000000</td>\n",
       "      <td>2202.899902</td>\n",
       "      <td>3289675.0</td>\n",
       "      <td>2202.899902</td>\n",
       "    </tr>\n",
       "    <tr>\n",
       "      <th>2022-07-06</th>\n",
       "      <td>2234.000000</td>\n",
       "      <td>2186.000000</td>\n",
       "      <td>2186.000000</td>\n",
       "      <td>2229.500000</td>\n",
       "      <td>3415023.0</td>\n",
       "      <td>2229.500000</td>\n",
       "    </tr>\n",
       "    <tr>\n",
       "      <th>2022-07-07</th>\n",
       "      <td>2249.449951</td>\n",
       "      <td>2228.600098</td>\n",
       "      <td>2241.600098</td>\n",
       "      <td>2245.550049</td>\n",
       "      <td>2907549.0</td>\n",
       "      <td>2245.550049</td>\n",
       "    </tr>\n",
       "    <tr>\n",
       "      <th>2022-07-08</th>\n",
       "      <td>2262.399902</td>\n",
       "      <td>2239.750000</td>\n",
       "      <td>2260.000000</td>\n",
       "      <td>2244.000000</td>\n",
       "      <td>1437502.0</td>\n",
       "      <td>2244.000000</td>\n",
       "    </tr>\n",
       "  </tbody>\n",
       "</table>\n",
       "</div>"
      ],
      "text/plain": [
       "                   High          Low         Open        Close     Volume  \\\n",
       "Date                                                                        \n",
       "2022-07-04  2220.550049  2178.199951  2195.149902  2216.850098  1713059.0   \n",
       "2022-07-05  2245.500000  2191.399902  2241.000000  2202.899902  3289675.0   \n",
       "2022-07-06  2234.000000  2186.000000  2186.000000  2229.500000  3415023.0   \n",
       "2022-07-07  2249.449951  2228.600098  2241.600098  2245.550049  2907549.0   \n",
       "2022-07-08  2262.399902  2239.750000  2260.000000  2244.000000  1437502.0   \n",
       "\n",
       "              Adj Close  \n",
       "Date                     \n",
       "2022-07-04  2216.850098  \n",
       "2022-07-05  2202.899902  \n",
       "2022-07-06  2229.500000  \n",
       "2022-07-07  2245.550049  \n",
       "2022-07-08  2244.000000  "
      ]
     },
     "execution_count": 90,
     "metadata": {},
     "output_type": "execute_result"
    }
   ],
   "source": [
    "HDFC.tail()"
   ]
  },
  {
   "cell_type": "markdown",
   "id": "af7f95a5",
   "metadata": {},
   "source": [
    "<h1> Simple Rate of Return </h1>"
   ]
  },
  {
   "cell_type": "markdown",
   "id": "a3dde481",
   "metadata": {},
   "source": [
    "<p>Simple Rate of Return =  (Pe - Ps)/Ps</p>"
   ]
  },
  {
   "cell_type": "code",
   "execution_count": 91,
   "id": "0545bcac",
   "metadata": {},
   "outputs": [
    {
     "name": "stdout",
     "output_type": "stream",
     "text": [
      "Date\n",
      "2019-01-01         NaN\n",
      "2019-01-02   -0.014111\n",
      "2019-01-03   -0.022114\n",
      "2019-01-04    0.018458\n",
      "2019-01-07    0.000152\n",
      "                ...   \n",
      "2022-07-04    0.002850\n",
      "2022-07-05   -0.006293\n",
      "2022-07-06    0.012075\n",
      "2022-07-07    0.007199\n",
      "2022-07-08   -0.000690\n",
      "Name: Simple rate of Return, Length: 871, dtype: float64\n"
     ]
    }
   ],
   "source": [
    "HDFC['Simple rate of Return'] = (HDFC['Adj Close']/ HDFC['Adj Close'].shift(1)) - 1\n",
    "print(HDFC['Simple rate of Return'])"
   ]
  },
  {
   "cell_type": "code",
   "execution_count": 92,
   "id": "fbbe364f",
   "metadata": {},
   "outputs": [
    {
     "data": {
      "image/png": "[encoded data removed]",
      "text/plain": [
       "<Figure size 576x360 with 1 Axes>"
      ]
     },
     "metadata": {
      "needs_background": "light"
     },
     "output_type": "display_data"
    }
   ],
   "source": [
    "HDFC['Simple rate of Return'].plot(figsize=(8,5))\n",
    "plot.show()"
   ]
  },
  {
   "cell_type": "code",
   "execution_count": 93,
   "id": "527a6a82",
   "metadata": {},
   "outputs": [
    {
     "data": {
      "text/plain": [
       "0.0004353353556953597"
      ]
     },
     "execution_count": 93,
     "metadata": {},
     "output_type": "execute_result"
    }
   ],
   "source": [
    "avg_rate_return = HDFC['Simple rate of Return'].mean()\n",
    "avg_rate_return"
   ]
  },
  {
   "cell_type": "code",
   "execution_count": 94,
   "id": "c45c6187",
   "metadata": {},
   "outputs": [
    {
     "data": {
      "text/plain": [
       "0.10883383892383992"
      ]
     },
     "execution_count": 94,
     "metadata": {},
     "output_type": "execute_result"
    }
   ],
   "source": [
    "annual_avg_return = HDFC['Simple rate of Return'].mean()*250\n",
    "annual_avg_return"
   ]
  },
  {
   "cell_type": "code",
   "execution_count": 95,
   "id": "e52bd2c4",
   "metadata": {},
   "outputs": [
    {
     "name": "stdout",
     "output_type": "stream",
     "text": [
      "10.883 %\n"
     ]
    }
   ],
   "source": [
    "print(round(annual_avg_return,5)*100,'%') "
   ]
  },
  {
   "cell_type": "markdown",
   "id": "62a998c9",
   "metadata": {},
   "source": [
    "<h1>LOGARITHMIC RATE OF RETURN</h1>\n",
    "<p> logarithmic rate of return = log(Pt/P(t-1))"
   ]
  },
  {
   "cell_type": "code",
   "execution_count": 96,
   "id": "e140f8b1",
   "metadata": {},
   "outputs": [
    {
     "name": "stdout",
     "output_type": "stream",
     "text": [
      "Date\n",
      "2019-01-01         NaN\n",
      "2019-01-02   -0.014212\n",
      "2019-01-03   -0.022362\n",
      "2019-01-04    0.018290\n",
      "2019-01-07    0.000152\n",
      "                ...   \n",
      "2022-07-04    0.002846\n",
      "2022-07-05   -0.006313\n",
      "2022-07-06    0.012003\n",
      "2022-07-07    0.007173\n",
      "2022-07-08   -0.000691\n",
      "Name: log_return, Length: 871, dtype: float64\n"
     ]
    }
   ],
   "source": [
    "HDFC['log_return'] = nm.log(HDFC['Adj Close']/ HDFC['Adj Close'].shift(1))\n",
    "print(HDFC['log_return'])"
   ]
  },
  {
   "cell_type": "code",
   "execution_count": 97,
   "id": "46f050c8",
   "metadata": {},
   "outputs": [
    {
     "data": {
      "image/png": "[encoded data removed]",
      "text/plain": [
       "<Figure size 576x360 with 1 Axes>"
      ]
     },
     "metadata": {
      "needs_background": "light"
     },
     "output_type": "display_data"
    }
   ],
   "source": [
    "HDFC['log_return'].plot(figsize = (8,5))\n",
    "plot.show()"
   ]
  },
  {
   "cell_type": "code",
   "execution_count": 98,
   "id": "cb216cb8",
   "metadata": {},
   "outputs": [
    {
     "data": {
      "text/plain": [
       "0.10883383892383992"
      ]
     },
     "execution_count": 98,
     "metadata": {},
     "output_type": "execute_result"
    }
   ],
   "source": [
    "avg_log_return = HDFC['log_return'].mean()\n",
    "annual_avg_return"
   ]
  },
  {
   "cell_type": "code",
   "execution_count": 99,
   "id": "790f5c06",
   "metadata": {},
   "outputs": [
    {
     "data": {
      "text/plain": [
       "0.04926574559178025"
      ]
     },
     "execution_count": 99,
     "metadata": {},
     "output_type": "execute_result"
    }
   ],
   "source": [
    "annual_avg_log_return = HDFC['log_return'].mean()*250\n",
    "annual_avg_log_return"
   ]
  },
  {
   "cell_type": "code",
   "execution_count": 100,
   "id": "f2edc6ea",
   "metadata": {},
   "outputs": [
    {
     "name": "stdout",
     "output_type": "stream",
     "text": [
      "4.9270000000000005 %\n"
     ]
    }
   ],
   "source": [
    "print(round(annual_avg_log_return,5)*100,'%')"
   ]
  }
 ],
 "metadata": {
  "kernelspec": {
   "display_name": "Python 3.10.2 64-bit",
   "language": "python",
   "name": "python3"
  },
  "language_info": {
   "codemirror_mode": {
    "name": "ipython",
    "version": 3
   },
   "file_extension": ".py",
   "mimetype": "text/x-python",
   "name": "python",
   "nbconvert_exporter": "python",
   "pygments_lexer": "ipython3",
   "version": "3.10.2"
  },
  "vscode": {
   "interpreter": {
    "hash": "d037b55e50aa0e5177ec8fec1a26ad3cbfa60597f502b5abd4c6efe5c599ed19"
   }
  }
 },
 "nbformat": 4,
 "nbformat_minor": 5
}
